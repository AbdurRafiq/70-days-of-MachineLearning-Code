{
 "cells": [
  {
   "cell_type": "code",
   "execution_count": null,
   "metadata": {},
   "outputs": [],
   "source": [
    "n = 1\n",
    "while n<=10:\n",
    "    print(n)\n",
    "    n = n+1"
   ]
  },
  {
   "cell_type": "code",
   "execution_count": null,
   "metadata": {},
   "outputs": [],
   "source": [
    "i = 1\n",
    "temp = 0\n",
    "for i in range(1,99,2):\n",
    "    temp = temp + i\n",
    "    print(temp)"
   ]
  },
  {
   "cell_type": "code",
   "execution_count": null,
   "metadata": {},
   "outputs": [],
   "source": [
    "a = {'Name':'Md Abdur Rafiq','University': 'Uap','Home town':'Dinajpur','Number':'01712474104'}\n",
    "print(a)\n",
    "for item in a:\n",
    "    print(item)"
   ]
  },
  {
   "cell_type": "code",
   "execution_count": null,
   "metadata": {},
   "outputs": [],
   "source": [
    "a = 'Python'\n",
    "for i in a:\n",
    "    print(i)\n"
   ]
  },
  {
   "cell_type": "code",
   "execution_count": null,
   "metadata": {},
   "outputs": [],
   "source": [
    "tuple(range(5,21,2))"
   ]
  },
  {
   "cell_type": "code",
   "execution_count": null,
   "metadata": {},
   "outputs": [],
   "source": [
    " for number in range(1,11):\n",
    "        if number == 5:\n",
    "            break\n",
    "        print(number)"
   ]
  },
  {
   "cell_type": "code",
   "execution_count": null,
   "metadata": {},
   "outputs": [],
   "source": [
    " for number in range(1,11):\n",
    "        if number == 5:\n",
    "            continue\n",
    "        print(number)"
   ]
  },
  {
   "cell_type": "code",
   "execution_count": null,
   "metadata": {},
   "outputs": [],
   "source": [
    " for number in range(1,11):\n",
    "        if number == 5:\n",
    "            pass\n",
    "        print(number)"
   ]
  },
  {
   "cell_type": "code",
   "execution_count": null,
   "metadata": {},
   "outputs": [],
   "source": [
    "n = 1\n",
    "while n<=10:\n",
    "    print(n)\n",
    "    n = n+1\n",
    "else:\n",
    "    print(\"the loop is over\")"
   ]
  },
  {
   "cell_type": "code",
   "execution_count": null,
   "metadata": {},
   "outputs": [],
   "source": [
    "for i in range(1,10):\n",
    "    print(i)\n",
    "else:\n",
    "    print(\"the loop is over\")"
   ]
  },
  {
   "cell_type": "code",
   "execution_count": null,
   "metadata": {},
   "outputs": [],
   "source": [
    "N = int(input(\"Enter the number \"))\n",
    "count = 1\n",
    "while count <=10:\n",
    "    num = N*count\n",
    "    print(N,'X',count,'=',num)\n",
    "    count = count +1\n",
    "    "
   ]
  },
  {
   "cell_type": "code",
   "execution_count": null,
   "metadata": {},
   "outputs": [],
   "source": [
    "R = int(input(\"Enter the number \"))\n",
    "temp+"
   ]
  },
  {
   "cell_type": "code",
   "execution_count": null,
   "metadata": {},
   "outputs": [],
   "source": [
    "N = []\n",
    "for i in range(1,101):\n",
    "    if i%3 == 0 and i%5 != 0:\n",
    "        N.append(i)\n",
    "        \n",
    "    print(N)"
   ]
  },
  {
   "cell_type": "code",
   "execution_count": null,
   "metadata": {},
   "outputs": [],
   "source": [
    "G = [2,2,5,55,6,2,1,7,3,5,6,56,5,8,9,5,1,3,3,20,25,5,8,45,6,8,8,7,45,5,2,5]\n",
    "F = []\n",
    "for i in G:\n",
    "    if i <30:\n",
    "        F.append(i)\n",
    "        F.sort()\n",
    "        print(F)"
   ]
  },
  {
   "cell_type": "code",
   "execution_count": 1,
   "metadata": {},
   "outputs": [
    {
     "name": "stdout",
     "output_type": "stream",
     "text": [
      "Please enter the input5\n",
      "*****\n",
      "*****\n",
      "*****\n",
      "*****\n",
      "*****\n"
     ]
    }
   ],
   "source": [
    "number = int(input(\"Please enter the input\"))\n",
    "temp = number\n",
    "while number > 0:\n",
    "    count = temp\n",
    "    while count > 0:\n",
    "        print('*',end='')\n",
    "        count -=1\n",
    "    print()\n",
    "    number -= 1\n",
    "    "
   ]
  },
  {
   "cell_type": "code",
   "execution_count": null,
   "metadata": {},
   "outputs": [],
   "source": [
    "import nltk\n",
    "nltk.download('punkt')\n",
    "from nltk.tokenize import word_tokenize\n",
    "\n",
    "P=input('inter the string P:')\n",
    "Q=input('inter the string Q:')\n",
    "R=input('inter the string R:')\n",
    "\n",
    "print('P->'+P)\n",
    "print('Q->'+Q)\n",
    "print('R->'+R)\n",
    "\n",
    "P = word_tokenize(P)\n",
    "Q = word_tokenize(Q)\n",
    "R = word_tokenize(R)\n",
    "\n",
    "\n",
    "print(P)\n",
    "print(Q)\n",
    "print(R)\n",
    "\n",
    "len(P)\n",
    "\n",
    "a=[]\n",
    "b=[]\n",
    "c=[]\n",
    "\n",
    "for i in range(len(P)):\n",
    "    if(P[i] != '|'):\n",
    "        p1 = P[i]\n",
    "    if(p1[0] == p1[0].lower()):\n",
    "        a.append(p1[0])\n",
    "for i in range(len(Q)):\n",
    "    if(Q[i] != '|'):\n",
    "        p2 = Q[i]\n",
    "    if(p2[0] == p2[0].lower()):\n",
    "        b.append(p2[0])\n",
    "for i in range(len(R)):\n",
    "    if(R[i] != '|'):\n",
    "         p3 = P[i]\n",
    "    if(p3[0] == p3[0].lower()):\n",
    "        c.append(p3[0])\n",
    "\n",
    "print(a)\n",
    "print(b)\n",
    "print(c)"
   ]
  },
  {
   "cell_type": "code",
   "execution_count": 4,
   "metadata": {},
   "outputs": [
    {
     "data": {
      "text/plain": [
       "['False',\n",
       " 'None',\n",
       " 'True',\n",
       " 'and',\n",
       " 'as',\n",
       " 'assert',\n",
       " 'async',\n",
       " 'await',\n",
       " 'break',\n",
       " 'class',\n",
       " 'continue',\n",
       " 'def',\n",
       " 'del',\n",
       " 'elif',\n",
       " 'else',\n",
       " 'except',\n",
       " 'finally',\n",
       " 'for',\n",
       " 'from',\n",
       " 'global',\n",
       " 'if',\n",
       " 'import',\n",
       " 'in',\n",
       " 'is',\n",
       " 'lambda',\n",
       " 'nonlocal',\n",
       " 'not',\n",
       " 'or',\n",
       " 'pass',\n",
       " 'raise',\n",
       " 'return',\n",
       " 'try',\n",
       " 'while',\n",
       " 'with',\n",
       " 'yield']"
      ]
     },
     "execution_count": 4,
     "metadata": {},
     "output_type": "execute_result"
    }
   ],
   "source": [
    "import keyword\n",
    "keyword.kwlist"
   ]
  },
  {
   "cell_type": "code",
   "execution_count": 5,
   "metadata": {},
   "outputs": [
    {
     "data": {
      "text/plain": [
       "5.0"
      ]
     },
     "execution_count": 5,
     "metadata": {},
     "output_type": "execute_result"
    }
   ],
   "source": [
    "eval( \"2.5+2.5\" )"
   ]
  },
  {
   "cell_type": "code",
   "execution_count": 11,
   "metadata": {},
   "outputs": [
    {
     "ename": "IndentationError",
     "evalue": "expected an indented block (<ipython-input-11-638429cde33e>, line 4)",
     "output_type": "error",
     "traceback": [
      "\u001b[1;36m  File \u001b[1;32m\"<ipython-input-11-638429cde33e>\"\u001b[1;36m, line \u001b[1;32m4\u001b[0m\n\u001b[1;33m    return  True\u001b[0m\n\u001b[1;37m         ^\u001b[0m\n\u001b[1;31mIndentationError\u001b[0m\u001b[1;31m:\u001b[0m expected an indented block\n"
     ]
    }
   ],
   "source": [
    "def demo_routine(num):\n",
    "    print('I am a demo function')\n",
    "    if num % 2 == 0:\n",
    "    return  True\n",
    "    else:\n",
    "    return False\n",
    "\n",
    "num = int(input('Enter a number:'))\n",
    "if demo_routine(num) is True:\n",
    "    print(num, 'is an even number')\n",
    "else:\n",
    "    print(num, 'is an odd number')"
   ]
  },
  {
   "cell_type": "code",
   "execution_count": 16,
   "metadata": {},
   "outputs": [
    {
     "name": "stdout",
     "output_type": "stream",
     "text": [
      "Please input your word!\n",
      "421\n",
      "LOL It is not a pallindmore\n"
     ]
    }
   ],
   "source": [
    "print('Please input your word!')\n",
    "word = input()\n",
    "word = word.casefold()\n",
    "reversed_word = word[::-1]\n",
    "if word == reversed_word:\n",
    "    print(\"Great ! it is a pallindrome\")\n",
    "else:\n",
    "    print('LOL It is not a pallindmore')"
   ]
  },
  {
   "cell_type": "code",
   "execution_count": 18,
   "metadata": {},
   "outputs": [
    {
     "data": {
      "text/plain": [
       "[0, 4, 16, 36, 64, 100, 144, 196, 256, 324]"
      ]
     },
     "execution_count": 18,
     "metadata": {},
     "output_type": "execute_result"
    }
   ],
   "source": [
    "#Set_Comprition\n",
    "N = [i**2 for i in range(20) if i%2 ==0 ]\n",
    "N"
   ]
  },
  {
   "cell_type": "code",
   "execution_count": 20,
   "metadata": {},
   "outputs": [
    {
     "data": {
      "text/plain": [
       "{'Mahammad', 'Rafiq', 'Titash'}"
      ]
     },
     "execution_count": 20,
     "metadata": {},
     "output_type": "execute_result"
    }
   ],
   "source": [
    "a_list = ['Mahammad','Rafiq','Titash']\n",
    "My_set = {i for i in a_list if len(i)>1}\n",
    "My_set"
   ]
  },
  {
   "cell_type": "code",
   "execution_count": 22,
   "metadata": {},
   "outputs": [],
   "source": [
    "def factorial(n):\n",
    "    if n== 0 or n ==1:\n",
    "        return 1\n",
    "    else:\n",
    "        return n*factorial(n-1)\n",
    "    n = int(input('Please inter the input'))\n",
    "    res = factorial(n)\n",
    "    print(res)"
   ]
  },
  {
   "cell_type": "code",
   "execution_count": null,
   "metadata": {},
   "outputs": [],
   "source": []
  }
 ],
 "metadata": {
  "kernelspec": {
   "display_name": "Python 3",
   "language": "python",
   "name": "python3"
  },
  "language_info": {
   "codemirror_mode": {
    "name": "ipython",
    "version": 3
   },
   "file_extension": ".py",
   "mimetype": "text/x-python",
   "name": "python",
   "nbconvert_exporter": "python",
   "pygments_lexer": "ipython3",
   "version": "3.7.3"
  }
 },
 "nbformat": 4,
 "nbformat_minor": 2
}
