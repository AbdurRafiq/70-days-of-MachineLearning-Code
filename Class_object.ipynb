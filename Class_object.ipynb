{
 "cells": [
  {
   "cell_type": "code",
   "execution_count": null,
   "metadata": {},
   "outputs": [],
   "source": [
    "class calculator:\n",
    "    \"\"\"Do addition, Subtraction,multiplication and division\"\"\"\n",
    "def addition(self,a,b):\n",
    "    return a+b\n",
    "def subtraction(self,a,b):\n",
    "    return a-b\n",
    "def multuply(self,a,b):\n",
    "    return a*b\n",
    "def division(self,a,b):\n",
    "    return a//b\n",
    "my_calculator = calculator()\n",
    "temp = my_calculator.calculator(8,5)\n",
    "print(temp)"
   ]
  },
  {
   "cell_type": "code",
   "execution_count": null,
   "metadata": {},
   "outputs": [],
   "source": [
    "import calendar \n",
    "  \n",
    "yy = 2019\n",
    "  \n",
    "# display the calendar \n",
    "print(calendar.calendar(yy)) "
   ]
  },
  {
   "cell_type": "code",
   "execution_count": null,
   "metadata": {},
   "outputs": [],
   "source": [
    "\n",
    "   "
   ]
  },
  {
   "cell_type": "code",
   "execution_count": null,
   "metadata": {},
   "outputs": [],
   "source": [
    "def addition(a,b):\n",
    "    return a+b\n",
    "def subtraction(a,b):\n",
    "    return a-b\n",
    "def multuply(a,b):\n",
    "    return a*b\n",
    "def division(a,b):\n",
    "    return a//b\n",
    "def square(a,b):\n",
    "    return a**b\n",
    "print(\"Select Operation\")\n",
    "print(\"1.Add\")\n",
    "print('2.Sub')\n",
    "print('3.Mul')\n",
    "print('4.DIv')\n",
    "print('5.square')\n",
    "\n",
    "Take_input  = input(\"Enter choice(1/2/3/4)\")\n",
    "num1 = int(input(\"Enter the 1st input \"))\n",
    "num2 = int(input('Enter the 2nd input '))\n",
    "\n",
    "if Take_input == '1':\n",
    "    print(num1,\"+\",num2, \"=\",addition(num1,num2))\n",
    "elif Take_input == '2':\n",
    "    print(num1,'-',num2,'=', subtraction(num1,num2))\n",
    "elif Take_input == '3':\n",
    "    print(num1,'*',num2,'=', multiply(num1,num2))\n",
    "    \n",
    "elif Take_input == '4':\n",
    "    print(num1,'/',num2,'=', division(num1,num2))  \n",
    "    \n",
    "elif Take_input == '5':\n",
    "    print(num1,'**',num2,'=', square(num1,num2)) \n",
    "else:\n",
    "    print(\"Invalid input\")\n",
    "    +1"
   ]
  }
 ],
 "metadata": {
  "kernelspec": {
   "display_name": "Python 3",
   "language": "python",
   "name": "python3"
  },
  "language_info": {
   "codemirror_mode": {
    "name": "ipython",
    "version": 3
   },
   "file_extension": ".py",
   "mimetype": "text/x-python",
   "name": "python",
   "nbconvert_exporter": "python",
   "pygments_lexer": "ipython3",
   "version": "3.7.3"
  }
 },
 "nbformat": 4,
 "nbformat_minor": 2
}
