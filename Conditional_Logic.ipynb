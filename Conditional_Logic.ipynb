{
 "cells": [
  {
   "cell_type": "code",
   "execution_count": null,
   "metadata": {},
   "outputs": [],
   "source": [
    "#my frist loop condition\n",
    "a = int(input())\n",
    "if a == 5:\n",
    "    print('a is equal 10')\n",
    "elif a < 5:\n",
    "    print('a  is less than 10')\n",
    "elif a > 5 and a < 10:  \n",
    "    print('a is in between 5 and 10')\n",
    "else:\n",
    "    print(' a is bigger than 10')\n",
    "    "
   ]
  },
  {
   "cell_type": "code",
   "execution_count": null,
   "metadata": {},
   "outputs": [],
   "source": [
    "Number = float(input(\"Enter the number : \"))\n"
   ]
  },
  {
   "cell_type": "code",
   "execution_count": null,
   "metadata": {},
   "outputs": [],
   "source": [
    "#nested loop\n",
    "a = int(input())\n",
    "if  a <10:\n",
    "    if (a%2)== 0:\n",
    "        print('less ,yes')\n",
    "    else:\n",
    "        print('Less ,no')\n",
    "else:\n",
    "    if (a%3)==0:\n",
    "        print('greater,yes')\n",
    "    else:\n",
    "        print('greater,no')"
   ]
  },
  {
   "cell_type": "code",
   "execution_count": null,
   "metadata": {},
   "outputs": [],
   "source": [
    "4 is 2/2\n",
    "64 is 2^6o"
   ]
  },
  {
   "cell_type": "code",
   "execution_count": null,
   "metadata": {},
   "outputs": [],
   "source": [
    "Number = float(input(\"Enter the number : \"))"
   ]
  }
 ],
 "metadata": {
  "kernelspec": {
   "display_name": "Python 3",
   "language": "python",
   "name": "python3"
  },
  "language_info": {
   "codemirror_mode": {
    "name": "ipython",
    "version": 3
   },
   "file_extension": ".py",
   "mimetype": "text/x-python",
   "name": "python",
   "nbconvert_exporter": "python",
   "pygments_lexer": "ipython3",
   "version": "3.7.3"
  }
 },
 "nbformat": 4,
 "nbformat_minor": 2
}
